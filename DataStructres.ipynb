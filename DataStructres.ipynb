{
  "nbformat": 4,
  "nbformat_minor": 0,
  "metadata": {
    "colab": {
      "provenance": []
    },
    "kernelspec": {
      "name": "python3",
      "display_name": "Python 3"
    },
    "language_info": {
      "name": "python"
    }
  },
  "cells": [
    {
      "cell_type": "markdown",
      "source": [
        "#  Theoretical Questions"
      ],
      "metadata": {
        "id": "jbuqOONELyOS"
      }
    },
    {
      "cell_type": "markdown",
      "source": [
        "#### #1.What are data structures, and why are they important?\n",
        "##### #Ans.Data structures are ways of organizing and storing data to make it easier to access,modify and manage.They are important because they enable efficient data manipulation and problem-solving.Choosing the right data structure optimizes performance making operations like searching,inserting and deleting faster and more memory-efficient."
      ],
      "metadata": {
        "id": "NkI4SbBuMCQo"
      }
    },
    {
      "cell_type": "markdown",
      "source": [
        "#### #2.Explain the difference between mutable and immutable data types with examples.\n",
        "##### #Ans.Mutable data types allow their values to be changed after creation while immutable data types cannot be modified once they are created.For example,lists,dictionaries and sets are mutable because their contents can be modified directly.In contrast,strings,tuples and integers are immutable meaning any change to them results in the creation of a new object.For instance modifying a list element is possible, but trying to change a character in a string will raise an error. The key difference is that mutable objects can be updated in place, whereas immutable objects require new objects for any modification.\n",
        "Example of mutable data types:\n",
        "\n",
        "list = [1, 2, 3, 4]\n",
        "\n",
        "list[0] = 4\n",
        "\n",
        "Example of immutable data types:\n",
        "\n",
        "str = \"hello\"\n",
        "\n",
        "str[0] = H"
      ],
      "metadata": {
        "id": "Ig8-5HPfNbUh"
      }
    },
    {
      "cell_type": "markdown",
      "source": [
        "#### #3.What are the main differences between lists and tuples in Python?\n",
        "##### #Ans.Main differences between lists and tuples in Python are:\n",
        "\n",
        "Mutability:\n",
        "\n",
        "Lists are mutable.You can modify,add or remove elements after the list is created.\\\n",
        "Tuples are immutable.Once a tuple is created its elements cannot be changed,added or removed.\n",
        "\n",
        "Use Case:\n",
        "\n",
        "Lists are used when you need to store data that may change (e.g.,adding/removing items).\\\n",
        "Tuples are used when the data should remain constant and not be modified, offering better performance and safety for fixed collections.\n",
        "\n",
        "Methods:\n",
        "\n",
        "Lists have more built-in methods (like append(),remove(),pop()) for modifying data.\\\n",
        "Tuples have fewer methods (mostly count() and index()), as they cannot be modified.\n",
        "\n",
        "\n",
        "\n",
        "\n"
      ],
      "metadata": {
        "id": "ejUxASNmQJTC"
      }
    },
    {
      "cell_type": "markdown",
      "source": [
        "#### #4.Describe how dictionaries store data.\n",
        "##### #Ans.In Python,Dictionaries store data as key-value pairs.Each key is unique and maps to a corresponding value.The data is organized in an unordered way meaning the items are not stored in any specific order."
      ],
      "metadata": {
        "id": "80jMOwXLVAGb"
      }
    },
    {
      "cell_type": "markdown",
      "source": [
        "#### #5.Why might you use a set instead of a list in Python?\n",
        "##### Ans.I might use a set instead of a list in python to ensure unique elements,as sets automatically eliminate duplicates.Sets also provide faster membership testing compared to lists.They support set operations like union,intersection and difference,which are useful for working with collections of unique items. Additionally, sets are more memory efficient when storing unique values. However,if i need to maintain ordered elements or require indexing and slicing, a list would be more suitable."
      ],
      "metadata": {
        "id": "KzBMZLFkVbOm"
      }
    },
    {
      "cell_type": "markdown",
      "source": [
        "#### #6.What is a string in Python, and how is it different from a list?\n",
        "##### #Ans.A string in python is an immutable sequence of characters used to represent text enclosed in single or double quotes.It cannot be modified after creation.A list on the other hand is a mutable collection that can store elements of any type (including other lists or strings) and can be modified by adding,removing or changing elements.Strings are used specifically for text while lists are more versatile and can hold a variety of data types.Additionally,Strings support methods like .lower() or .upper() while lists support methods like .append() or .remove()."
      ],
      "metadata": {
        "id": "7GvqhiuOW4JA"
      }
    },
    {
      "cell_type": "markdown",
      "source": [
        "#### #7.How do tuples ensure data integrity in Python?\n",
        "##### #Ans.Tuples ensure data integrity in python by being immutable, meaning once a tuple is created its elements cannot be modified,added or removed.This immutability prevents accidental changes to the data ensuring its consistency throughout the program.Additionally because tuples are immutable,they can be used as keys in dictionaries or elements in sets maintaining their integrity in situations where data stability is crucial."
      ],
      "metadata": {
        "id": "53kDyV_uXxXp"
      }
    },
    {
      "cell_type": "markdown",
      "source": [
        "#### #8.What is a hash table, and how does it relate to dictionaries in Python?\n",
        "##### #Ans.A hash table is a data structure that stores key-value pairs and uses a hash function to map keys to specific locations in memory for quick data retrieval.Python dictionaries are implemented using hash tables allowing for efficient access,insertion and deletion of values based on their keys.In Python dictionaries,the keys are hashed to determine where their corresponding values are stored in memory.If two keys hash to the same location,Python uses methods like open addressing or chaining to handle these collisions."
      ],
      "metadata": {
        "id": "yd_-H404YfnR"
      }
    },
    {
      "cell_type": "markdown",
      "source": [
        "#### #9.Can lists contain different data types in Python?\n",
        "##### #Ans.Yes,lists in Python can contain elements of different data types.A single list can store various types of data such as integers, strings,floats,booleans and even other lists or objects.This allows for great flexibility in organizing and managing data within a single list."
      ],
      "metadata": {
        "id": "5UTxAw2QZTLl"
      }
    },
    {
      "cell_type": "markdown",
      "source": [
        "#### #10.Explain why strings are immutable in Python.\n",
        "##### #Ans.Strings are immutable in python to ensure data integrity, efficiency and security.Immutability prevents accidental changes to string data allowing for consistent and reliable handling.It also enables memory optimization as identical strings can share memory.Additionally, immutable strings are safer in multi-threaded environments because they cannot be altered by one thread while being accessed by another."
      ],
      "metadata": {
        "id": "9ZJC5f_oa-1n"
      }
    },
    {
      "cell_type": "markdown",
      "source": [
        "#### #11.What advantages do dictionaries offer over lists for certain tasks?\n",
        "##### #Ans.Dictionaries offer advantages over lists when you need fast lookups by key as they use a hash table for efficient access.They also store data as key-value pairs making them ideal for tasks where you need to associate data.Dictionaries ensure unique keys automatically unlike lists that can have duplicates.They are also more efficient for updates because you can directly access and modify values using keys.Overall, dictionaries are better for tasks requiring quick access,unique identification and structured data representation."
      ],
      "metadata": {
        "id": "yoADqLbIb83t"
      }
    },
    {
      "cell_type": "markdown",
      "source": [
        "#### #12.Describe a scenario where using a tuple would be preferable over a list.\n",
        "##### #Ans.A tuple would be preferable over a list when you need to store data that should remain unchanged throughout the program such as coordinates (latitude and longitude) for a location.Since tuples are immutable they prevent accidental modification of the data ensuring data integrity.Additionally,tuples are more memory-efficient and offer faster access compared to lists making them ideal for fixed collections of items.For example,using a tuple for coordinates conveys that the data is intended to remain constant."
      ],
      "metadata": {
        "id": "DSzR0Gw6c4sz"
      }
    },
    {
      "cell_type": "markdown",
      "source": [
        "#### #13.How do sets handle duplicate values in Python?\n",
        "##### #Ans.In Python,sets automatically eliminate duplicate values.If you try to add a duplicate element to a set.It simply ignores the addition and keeps only the unique values.This ensures that a set always contains only unique elements.For example,if you try to add the same value twice, the set will remain unchanged."
      ],
      "metadata": {
        "id": "an8ETnh0eOBL"
      }
    },
    {
      "cell_type": "markdown",
      "source": [
        "#### #14.How does the “in” keyword work differently for lists and dictionaries\n",
        "##### #Ans.The in keyword works differently for lists and dictionaries in python.In lists, it checks if a specific element is present,returning (True) if the element exists. In dictionaries,it checks if a specific key exists,returning (True) if the key is found.For example,3 in [1, 2, 3] checks for the element 3, while \"a\" in {\"a\": 1, \"b\": 2} checks for the key \"a\"."
      ],
      "metadata": {
        "id": "GOWK6ZyNiDPz"
      }
    },
    {
      "cell_type": "markdown",
      "source": [
        "#### #15.Can you modify the elements of a tuple? Explain why or why not.\n",
        "##### #Ans.No,we cannot modify the elements of a tuple in python because tuples are immutable.Once a tuple is created its elements cannot be changed,added or removed.This immutability ensures data integrity and allows tuples to be used safely as keys in dictionaries or elements in sets.\n",
        "\n",
        "\n",
        "\n"
      ],
      "metadata": {
        "id": "GVi0oD6Aiup1"
      }
    },
    {
      "cell_type": "markdown",
      "source": [
        "#### #16.What is a nested dictionary, and give an example of its use case?\n",
        "##### #Ans.A nested dictionary is a dictionary where the values are themselves dictionaries allowing you to store complex data.For example, you could use a nested dictionary to store information about employees in a company where each employee's name is a key, and the value is a dictionary containing their job title, department, and contact details.\n",
        "Use case employees info =\n",
        "    {\"John\": {\"job_title\": \"Manager\", \"department\": \"Sales\", \"contact\": {\"email\": \"john@email.com\", \"phone\": \"123-456-7890\"}},\n",
        "    \"Sarah\": {\"job_title\": \"Developer\", \"department\": \"IT\", \"contact\": {\"email\": \"sarah@email.com\", \"phone\": \"098-765-4321\"}}\\\n",
        "We can access to this info through this way:\n",
        "employees[\"Sarah\"][\"email\"][\"phone\"]\n",
        "  "
      ],
      "metadata": {
        "id": "lk0GeZvDkAjT"
      }
    },
    {
      "cell_type": "markdown",
      "source": [
        "#### #17.Describe the time complexity of accessing elements in a dictionary.\n",
        "##### #Ans.In Python,accessing elements in a dictionary is generally very fast because dictionaries use a hash table.When you provide a key,Python calculates a hash of that key to directly locate the associated value in the table allowing for quick retrieval.While rare,if multiple keys happen to hash to the same location python may need to handle this by checking the other values at that location which could slow things down slightly but overall,dictionary lookups are highly efficient."
      ],
      "metadata": {
        "id": "L8QAPeSqme4t"
      }
    },
    {
      "cell_type": "markdown",
      "source": [
        "#### #18.In what situations are lists preferred over dictionaries?\n",
        "##### #Ans.Lists are preferred over dictionaries when the order of elements matters as lists maintain the sequence of elements.They are also ideal when elements are accessed by their position (index) such as in cases where you need to process data in a specific order.Lists are better for homogeneous data or simpler tasks that don't require key-value mappings.Additionally,for smaller datasets or scenarios where performance is not a primary concern,lists offer a straightforward and easy-to-use structure."
      ],
      "metadata": {
        "id": "kGHJhXjqnNHx"
      }
    },
    {
      "cell_type": "markdown",
      "source": [
        "#### #19.Why are dictionaries considered unordered, and how does that affect data retrieval?\n",
        "##### #Ans.Dictionaries in python are considered unordered because they store key-value pairs using a hash table which does not maintain the insertion order of elements.While this allows for fast access to values based on their keys it means that dictionaries do not inherently guarantee the order of items.However after new update dictionaries preserve insertion order as an implementation detail but the main focus remains on efficient data retrieval by key."
      ],
      "metadata": {
        "id": "njqLO6idnwAj"
      }
    },
    {
      "cell_type": "markdown",
      "source": [
        "#### #20.Explain the difference between a list and a dictionary in terms of data retrieval.\n",
        "##### #Ans.The main difference between a list and a dictionary in terms of data retrieval is how elements are accessed.In a list data is accessed by index (position) and lists are ordered it means the order of elements is preserved.In a dictionary data is accessed by key and dictionaries are optimized for fast lookups by key.While dictionaries are unordered they provide faster access to values compared to lists where you typically have to search sequentially for an element if you don't know its index."
      ],
      "metadata": {
        "id": "E5OJY9SMouXZ"
      }
    },
    {
      "cell_type": "markdown",
      "source": [
        "#  Practical Questions"
      ],
      "metadata": {
        "id": "7B3-z_HKwPNO"
      }
    },
    {
      "cell_type": "code",
      "source": [
        "#1. Write a code to create a string with your name and print it.\n",
        "name = \"Kartik\"\n",
        "print(name)"
      ],
      "metadata": {
        "colab": {
          "base_uri": "https://localhost:8080/"
        },
        "id": "hUaR6YWWwaDB",
        "outputId": "64816de0-95c0-421e-82a5-393a5fead7c2"
      },
      "execution_count": 1,
      "outputs": [
        {
          "output_type": "stream",
          "name": "stdout",
          "text": [
            "Kartik\n"
          ]
        }
      ]
    },
    {
      "cell_type": "code",
      "source": [
        "#2. Write a code to find the length of the string \"Hello World\".\n",
        "str = \"Hello World\"\n",
        "len(str)"
      ],
      "metadata": {
        "colab": {
          "base_uri": "https://localhost:8080/"
        },
        "id": "3_QG7_NvxLgU",
        "outputId": "f0326370-62e4-46f6-8c59-eb6f1d3e617c"
      },
      "execution_count": 4,
      "outputs": [
        {
          "output_type": "execute_result",
          "data": {
            "text/plain": [
              "11"
            ]
          },
          "metadata": {},
          "execution_count": 4
        }
      ]
    },
    {
      "cell_type": "code",
      "source": [
        "#3. Write a code to slice the first 3 characters from the string \"Python Programming\".\n",
        "str = \"Python Programming\"\n",
        "str[0:3]"
      ],
      "metadata": {
        "colab": {
          "base_uri": "https://localhost:8080/",
          "height": 35
        },
        "id": "XFJH6KzMxpsN",
        "outputId": "95725d53-dfd6-40a3-cad9-8b5d231b595a"
      },
      "execution_count": 5,
      "outputs": [
        {
          "output_type": "execute_result",
          "data": {
            "text/plain": [
              "'Pyt'"
            ],
            "application/vnd.google.colaboratory.intrinsic+json": {
              "type": "string"
            }
          },
          "metadata": {},
          "execution_count": 5
        }
      ]
    },
    {
      "cell_type": "code",
      "source": [
        "#4. Write a code to convert the string \"hello\" to uppercase.\n",
        "str = \"hello\"\n",
        "str.upper()"
      ],
      "metadata": {
        "colab": {
          "base_uri": "https://localhost:8080/",
          "height": 35
        },
        "id": "XclTUd7Nx6kW",
        "outputId": "06b1fe6b-7c75-4fa1-e234-af8ef6efe1c4"
      },
      "execution_count": 6,
      "outputs": [
        {
          "output_type": "execute_result",
          "data": {
            "text/plain": [
              "'HELLO'"
            ],
            "application/vnd.google.colaboratory.intrinsic+json": {
              "type": "string"
            }
          },
          "metadata": {},
          "execution_count": 6
        }
      ]
    },
    {
      "cell_type": "code",
      "source": [
        "#5. Write a code to replace the word \"apple\" with \"orange\" in the string \"I like apple\".\n",
        "str = \"I like apple\"\n",
        "str.replace(\"apple\",\"orange\")"
      ],
      "metadata": {
        "colab": {
          "base_uri": "https://localhost:8080/",
          "height": 35
        },
        "id": "pgDOQtTIyYm3",
        "outputId": "b690465f-8ce0-4279-d4a5-ede7379cbbe0"
      },
      "execution_count": 7,
      "outputs": [
        {
          "output_type": "execute_result",
          "data": {
            "text/plain": [
              "'I like orange'"
            ],
            "application/vnd.google.colaboratory.intrinsic+json": {
              "type": "string"
            }
          },
          "metadata": {},
          "execution_count": 7
        }
      ]
    },
    {
      "cell_type": "code",
      "source": [
        "#6. Write a code to create a list with numbers 1 to 5 and print it.\n",
        "list = [1, 2, 3, 4, 5]\n",
        "print(list)"
      ],
      "metadata": {
        "colab": {
          "base_uri": "https://localhost:8080/"
        },
        "id": "iwpqPGcFyn8A",
        "outputId": "2bbe906e-22b6-4032-ca26-fcb41cf70307"
      },
      "execution_count": 8,
      "outputs": [
        {
          "output_type": "stream",
          "name": "stdout",
          "text": [
            "[1, 2, 3, 4, 5]\n"
          ]
        }
      ]
    },
    {
      "cell_type": "code",
      "source": [
        "#7. Write a code to append the number 10 to the list [1, 2, 3, 4].\n",
        "num = [1, 2, 3, 4]\n",
        "num.append(10)\n",
        "print(num)"
      ],
      "metadata": {
        "colab": {
          "base_uri": "https://localhost:8080/"
        },
        "id": "ni4F-1ktzsMt",
        "outputId": "7cd15ed8-8004-49c4-9f41-247a7515b43e"
      },
      "execution_count": 11,
      "outputs": [
        {
          "output_type": "stream",
          "name": "stdout",
          "text": [
            "[1, 2, 3, 4, 10]\n"
          ]
        }
      ]
    },
    {
      "cell_type": "code",
      "source": [
        "#8. Write a code to remove the number 3 from the list [1, 2, 3, 4, 5].\n",
        "list = [1, 2, 3, 4, 5]\n",
        "list.remove(3)\n",
        "print(list)"
      ],
      "metadata": {
        "colab": {
          "base_uri": "https://localhost:8080/"
        },
        "id": "S_ENxwBt0G7A",
        "outputId": "391d485a-f8c5-4c68-9828-da541a5b7d58"
      },
      "execution_count": 10,
      "outputs": [
        {
          "output_type": "stream",
          "name": "stdout",
          "text": [
            "[1, 2, 4, 5]\n"
          ]
        }
      ]
    },
    {
      "cell_type": "code",
      "source": [
        "#9. Write a code to access the second element in the list ['a', 'b', 'c', 'd'].\n",
        "alphabets = ['a', 'b', 'c', 'd']\n",
        "alphabets[1]"
      ],
      "metadata": {
        "colab": {
          "base_uri": "https://localhost:8080/",
          "height": 35
        },
        "id": "k_j329gJ0dcs",
        "outputId": "ae312ec7-fece-40bc-e11e-2859058c85f7"
      },
      "execution_count": 12,
      "outputs": [
        {
          "output_type": "execute_result",
          "data": {
            "text/plain": [
              "'b'"
            ],
            "application/vnd.google.colaboratory.intrinsic+json": {
              "type": "string"
            }
          },
          "metadata": {},
          "execution_count": 12
        }
      ]
    },
    {
      "cell_type": "code",
      "source": [
        "#10. Write a code to reverse the list [10, 20, 30, 40, 50].\n",
        "list = [10, 20, 30, 40, 50]\n",
        "list.reverse()\n",
        "print(list)"
      ],
      "metadata": {
        "colab": {
          "base_uri": "https://localhost:8080/"
        },
        "id": "EUmzANWR1oRU",
        "outputId": "1020cac4-b1d3-490e-9e2b-c9e4f95186ca"
      },
      "execution_count": 13,
      "outputs": [
        {
          "output_type": "stream",
          "name": "stdout",
          "text": [
            "[50, 40, 30, 20, 10]\n"
          ]
        }
      ]
    },
    {
      "cell_type": "code",
      "source": [
        "#11. Write a code to create a tuple with the elements 10, 20, 30 and print it.\n",
        "a = (10, 20, 30)\n",
        "print(a)"
      ],
      "metadata": {
        "colab": {
          "base_uri": "https://localhost:8080/"
        },
        "id": "VI5KGMlz2EE4",
        "outputId": "2ced444f-0197-4f50-f57f-1b1d8103d060"
      },
      "execution_count": 14,
      "outputs": [
        {
          "output_type": "stream",
          "name": "stdout",
          "text": [
            "(10, 20, 30)\n"
          ]
        }
      ]
    },
    {
      "cell_type": "code",
      "source": [
        "#12. Write a code to access the first element of the tuple ('apple', 'banana', 'cherry').\n",
        "fruits = ('apple', 'banana', 'cherry')\n",
        "fruits[0]"
      ],
      "metadata": {
        "colab": {
          "base_uri": "https://localhost:8080/",
          "height": 35
        },
        "id": "_gNsZSmm2kVG",
        "outputId": "30316cde-45c5-4ccf-b7b5-c4452d4e0673"
      },
      "execution_count": 15,
      "outputs": [
        {
          "output_type": "execute_result",
          "data": {
            "text/plain": [
              "'apple'"
            ],
            "application/vnd.google.colaboratory.intrinsic+json": {
              "type": "string"
            }
          },
          "metadata": {},
          "execution_count": 15
        }
      ]
    },
    {
      "cell_type": "code",
      "source": [
        "#13. Write a code to count how many times the number 2 appears in the tuple (1, 2, 3, 2, 4, 2).\n",
        "a = (1, 2, 3, 2, 4, 2)\n",
        "a.count(2)"
      ],
      "metadata": {
        "colab": {
          "base_uri": "https://localhost:8080/"
        },
        "id": "t-zidTTA24BY",
        "outputId": "4db497de-edd2-4a8d-82f7-178b9a25dc92"
      },
      "execution_count": 16,
      "outputs": [
        {
          "output_type": "execute_result",
          "data": {
            "text/plain": [
              "3"
            ]
          },
          "metadata": {},
          "execution_count": 16
        }
      ]
    },
    {
      "cell_type": "code",
      "source": [
        "#14. Write a code to find the index of the element \"cat\" in the tuple ('dog', 'cat', 'rabbit').\n",
        "animals = ('dog', 'cat', 'rabbit')\n",
        "animals.index('cat')"
      ],
      "metadata": {
        "colab": {
          "base_uri": "https://localhost:8080/"
        },
        "id": "LbAcw7q74cN1",
        "outputId": "ab9b7777-b871-4d4c-9e0c-54f3070c1c58"
      },
      "execution_count": 18,
      "outputs": [
        {
          "output_type": "execute_result",
          "data": {
            "text/plain": [
              "1"
            ]
          },
          "metadata": {},
          "execution_count": 18
        }
      ]
    },
    {
      "cell_type": "code",
      "source": [
        "#15. Write a code to check if the element \"banana\" is in the tuple ('apple', 'orange', 'banana').\n",
        "fruits = ('apple', 'orange', 'banana')\n",
        "'banana' in fruits"
      ],
      "metadata": {
        "colab": {
          "base_uri": "https://localhost:8080/"
        },
        "id": "f3o98OC95BQv",
        "outputId": "c369490c-a70c-46b9-c7c2-f5370d275f36"
      },
      "execution_count": 21,
      "outputs": [
        {
          "output_type": "execute_result",
          "data": {
            "text/plain": [
              "True"
            ]
          },
          "metadata": {},
          "execution_count": 21
        }
      ]
    },
    {
      "cell_type": "code",
      "source": [
        "#16. Write a code to create a set with the elements 1, 2, 3, 4, 5 and print it.\n",
        "set ={1, 2, 3, 4, 5}\n",
        "print(set)\n"
      ],
      "metadata": {
        "colab": {
          "base_uri": "https://localhost:8080/"
        },
        "id": "-A2IBQRj5lEj",
        "outputId": "7d8a3bdc-10c8-4f12-fa8c-384623e0573d"
      },
      "execution_count": 22,
      "outputs": [
        {
          "output_type": "stream",
          "name": "stdout",
          "text": [
            "{1, 2, 3, 4, 5}\n"
          ]
        }
      ]
    },
    {
      "cell_type": "code",
      "source": [
        "#17. Write a code to add the element 6 to the set {1, 2, 3, 4}.\n",
        "set = {1, 2, 3, 4}\n",
        "set.add(6)\n",
        "print(set)\n"
      ],
      "metadata": {
        "colab": {
          "base_uri": "https://localhost:8080/"
        },
        "id": "m5QgCSHj6C9O",
        "outputId": "4ee5f8a2-cd40-44d9-cc5c-624150065647"
      },
      "execution_count": 23,
      "outputs": [
        {
          "output_type": "stream",
          "name": "stdout",
          "text": [
            "{1, 2, 3, 4, 6}\n"
          ]
        }
      ]
    },
    {
      "cell_type": "code",
      "source": [
        "#18. Write a code to create a tuple with the elements 10, 20, 30 and print it.\n",
        "num = (10, 20, 30)\n",
        "print(num)"
      ],
      "metadata": {
        "colab": {
          "base_uri": "https://localhost:8080/"
        },
        "id": "8TisFLhm6aXu",
        "outputId": "afd30c16-263e-4f5b-fbea-3c5e29eb803f"
      },
      "execution_count": 24,
      "outputs": [
        {
          "output_type": "stream",
          "name": "stdout",
          "text": [
            "(10, 20, 30)\n"
          ]
        }
      ]
    },
    {
      "cell_type": "code",
      "source": [
        "#19. Write a code to access the first element of the tuple ('apple', 'banana', 'cherry').\n",
        "fruits = ('apple', 'banana', 'cherry')\n",
        "fruits[0]"
      ],
      "metadata": {
        "colab": {
          "base_uri": "https://localhost:8080/",
          "height": 35
        },
        "id": "3Sz-rMQV6_kU",
        "outputId": "f23e863c-9bb7-4f66-ab0b-5b676581d3fe"
      },
      "execution_count": 25,
      "outputs": [
        {
          "output_type": "execute_result",
          "data": {
            "text/plain": [
              "'apple'"
            ],
            "application/vnd.google.colaboratory.intrinsic+json": {
              "type": "string"
            }
          },
          "metadata": {},
          "execution_count": 25
        }
      ]
    },
    {
      "cell_type": "code",
      "source": [
        "#20. Write a code to count how many times the number 2 appears in the tuple (1, 2, 3, 2, 4, 2).\n",
        "numbers = (1, 2, 3, 2, 4, 2)\n",
        "numbers.count(2)"
      ],
      "metadata": {
        "colab": {
          "base_uri": "https://localhost:8080/"
        },
        "id": "W8rp8cuj8NEp",
        "outputId": "067a2a36-ca7e-4bd4-da75-0f5872c33e30"
      },
      "execution_count": 26,
      "outputs": [
        {
          "output_type": "execute_result",
          "data": {
            "text/plain": [
              "3"
            ]
          },
          "metadata": {},
          "execution_count": 26
        }
      ]
    },
    {
      "cell_type": "code",
      "source": [
        "#21. Write a code to find the index of the element \"cat\" in the tuple ('dog', 'cat', 'rabbit').\n",
        "animals = ('dog', 'cat', 'rabbit')\n",
        "animals.index('cat')\n"
      ],
      "metadata": {
        "colab": {
          "base_uri": "https://localhost:8080/"
        },
        "id": "eDfAQTim8zRV",
        "outputId": "3aed450f-1b50-4b8d-c3da-e9118c0d43cd"
      },
      "execution_count": 27,
      "outputs": [
        {
          "output_type": "execute_result",
          "data": {
            "text/plain": [
              "1"
            ]
          },
          "metadata": {},
          "execution_count": 27
        }
      ]
    },
    {
      "cell_type": "code",
      "source": [
        "#22. Write a code to check if the element \"banana\" is in the tuple ('apple', 'orange', 'banana').\n",
        "b = ('apple', 'orange', 'banana')\n",
        "'banana' in b"
      ],
      "metadata": {
        "colab": {
          "base_uri": "https://localhost:8080/"
        },
        "id": "KE2GKLB89LwM",
        "outputId": "d2335095-408f-4ed4-d64c-87bf5884d56f"
      },
      "execution_count": 28,
      "outputs": [
        {
          "output_type": "execute_result",
          "data": {
            "text/plain": [
              "True"
            ]
          },
          "metadata": {},
          "execution_count": 28
        }
      ]
    },
    {
      "cell_type": "code",
      "source": [
        "#23. Write a code to create a set with the elements 1, 2, 3, 4, 5 and print it.\n",
        "set_numbers = (1, 2, 3, 4, 5)\n",
        "print(set_numbers)"
      ],
      "metadata": {
        "colab": {
          "base_uri": "https://localhost:8080/"
        },
        "id": "_YHNRJqI9xCl",
        "outputId": "cd587173-f07d-4471-a2fa-44cc2ee9fc1c"
      },
      "execution_count": 29,
      "outputs": [
        {
          "output_type": "stream",
          "name": "stdout",
          "text": [
            "(1, 2, 3, 4, 5)\n"
          ]
        }
      ]
    },
    {
      "cell_type": "code",
      "source": [
        "#24. Write a code to add the element 6 to the set {1, 2, 3, 4}.\n",
        "set = {1, 2, 3, 4}\n",
        "set.add(6)\n",
        "print(set)\n"
      ],
      "metadata": {
        "colab": {
          "base_uri": "https://localhost:8080/"
        },
        "id": "PLPmzTj0-IQ2",
        "outputId": "398144db-05e8-4aae-df8d-fd0155e2064f"
      },
      "execution_count": 30,
      "outputs": [
        {
          "output_type": "stream",
          "name": "stdout",
          "text": [
            "{1, 2, 3, 4, 6}\n"
          ]
        }
      ]
    }
  ]
}